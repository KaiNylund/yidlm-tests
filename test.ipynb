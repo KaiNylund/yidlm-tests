{
 "cells": [
  {
   "cell_type": "code",
   "execution_count": 1,
   "metadata": {},
   "outputs": [
    {
     "name": "stderr",
     "output_type": "stream",
     "text": [
      "/mmfs1/gscratch/ark/knylund/.conda/envs/arkenv/lib/python3.10/site-packages/tqdm/auto.py:21: TqdmWarning: IProgress not found. Please update jupyter and ipywidgets. See https://ipywidgets.readthedocs.io/en/stable/user_install.html\n",
      "  from .autonotebook import tqdm as notebook_tqdm\n"
     ]
    }
   ],
   "source": [
    "from transformers import AutoModelForSeq2SeqLM\n",
    "from datasets import load_from_disk\n",
    "from pprint import pprint\n",
    "import numpy as np\n",
    "from dateutil import parser\n",
    "import matplotlib.pyplot as plt\n",
    "import sys\n",
    "import os"
   ]
  },
  {
   "cell_type": "code",
   "execution_count": 6,
   "metadata": {},
   "outputs": [
    {
     "name": "stdout",
     "output_type": "stream",
     "text": [
      "set()\n"
     ]
    }
   ],
   "source": [
    "print(set(os.listdir(\"./lang_splits/\")) - set(os.listdir(\"./lang_models/\")))"
   ]
  },
  {
   "cell_type": "code",
   "execution_count": 7,
   "metadata": {},
   "outputs": [
    {
     "name": "stdout",
     "output_type": "stream",
     "text": [
      "[ 0  1  2  3  4  5  6  7  8  9 10 11 12 13 14 15 16 17 18 19 20 21] [ 0  1  2  3  4  5  6  7  8  9 10 11 12 13 14 15 16 17 18 19 20 21]\n",
      "[ 0  1  2  3  4  5  6  7  8  9 10 11 12 13 14 15 16 17 18 19 20 21] [22 23 24 25 26 27 28 29 30 31 32 33 34 35 36 37 38 39 40 41 42 43]\n",
      "[ 0  1  2  3  4  5  6  7  8  9 10 11 12 13 14 15 16 17 18 19 20 21] [44 45 46 47 48 49 50 51 52 53 54 55 56 57 58 59 60 61 62 63 64]\n",
      "[ 0  1  2  3  4  5  6  7  8  9 10 11 12 13 14 15 16 17 18 19 20 21] [65 66 67 68 69 70 71 72 73 74 75 76 77 78 79 80 81 82 83 84 85]\n",
      "[22 23 24 25 26 27 28 29 30 31 32 33 34 35 36 37 38 39 40 41 42 43] [ 0  1  2  3  4  5  6  7  8  9 10 11 12 13 14 15 16 17 18 19 20 21]\n",
      "[22 23 24 25 26 27 28 29 30 31 32 33 34 35 36 37 38 39 40 41 42 43] [22 23 24 25 26 27 28 29 30 31 32 33 34 35 36 37 38 39 40 41 42 43]\n",
      "[22 23 24 25 26 27 28 29 30 31 32 33 34 35 36 37 38 39 40 41 42 43] [44 45 46 47 48 49 50 51 52 53 54 55 56 57 58 59 60 61 62 63 64]\n",
      "[22 23 24 25 26 27 28 29 30 31 32 33 34 35 36 37 38 39 40 41 42 43] [65 66 67 68 69 70 71 72 73 74 75 76 77 78 79 80 81 82 83 84 85]\n",
      "[44 45 46 47 48 49 50 51 52 53 54 55 56 57 58 59 60 61 62 63 64] [ 0  1  2  3  4  5  6  7  8  9 10 11 12 13 14 15 16 17 18 19 20 21]\n",
      "[44 45 46 47 48 49 50 51 52 53 54 55 56 57 58 59 60 61 62 63 64] [22 23 24 25 26 27 28 29 30 31 32 33 34 35 36 37 38 39 40 41 42 43]\n",
      "[44 45 46 47 48 49 50 51 52 53 54 55 56 57 58 59 60 61 62 63 64] [44 45 46 47 48 49 50 51 52 53 54 55 56 57 58 59 60 61 62 63 64]\n",
      "[44 45 46 47 48 49 50 51 52 53 54 55 56 57 58 59 60 61 62 63 64] [65 66 67 68 69 70 71 72 73 74 75 76 77 78 79 80 81 82 83 84 85]\n",
      "[65 66 67 68 69 70 71 72 73 74 75 76 77 78 79 80 81 82 83 84 85] [ 0  1  2  3  4  5  6  7  8  9 10 11 12 13 14 15 16 17 18 19 20 21]\n",
      "[65 66 67 68 69 70 71 72 73 74 75 76 77 78 79 80 81 82 83 84 85] [22 23 24 25 26 27 28 29 30 31 32 33 34 35 36 37 38 39 40 41 42 43]\n",
      "[65 66 67 68 69 70 71 72 73 74 75 76 77 78 79 80 81 82 83 84 85] [44 45 46 47 48 49 50 51 52 53 54 55 56 57 58 59 60 61 62 63 64]\n",
      "[65 66 67 68 69 70 71 72 73 74 75 76 77 78 79 80 81 82 83 84 85] [65 66 67 68 69 70 71 72 73 74 75 76 77 78 79 80 81 82 83 84 85]\n"
     ]
    }
   ],
   "source": [
    "batch_idxs = np.array_split(np.array(list(range(86))), 4)\n",
    "\n",
    "for b1_idxs in batch_idxs:\n",
    "    for b2_idxs in batch_idxs:\n",
    "        print(b1_idxs, b2_idxs)\n",
    "\n",
    "#print(np.meshgrid([1, 2, 3, 8], [3, 2, 9, 1]))"
   ]
  },
  {
   "cell_type": "code",
   "execution_count": 2,
   "metadata": {},
   "outputs": [
    {
     "name": "stdout",
     "output_type": "stream",
     "text": [
      "250112\n"
     ]
    }
   ],
   "source": [
    "pretrained_mt5 = AutoModelForSeq2SeqLM.from_pretrained(\"google/mt5-small\")\n",
    "pprint(pretrained_mt5.state_dict()[\"shared.weight\"].size()[0])\n",
    "\n",
    "#pprint(list(pretrained_mt5.state_dict().keys()))\n",
    "# decoder.block.7.layer.2.DenseReluDense.wi_0.weight\n",
    "# decoder.block.7.layer.2.DenseReluDense.wi_1.weight\n",
    "# decoder.block.7.layer.2.DenseReluDense.wo.weight\n",
    "# encoder.block.7.layer.1.DenseReluDense.wi_0.weight\n",
    "# encoder.block.7.layer.1.DenseReluDense.wi_1.weight\n",
    "# encoder.block.7.layer.1.DenseReluDense.wo.weight\n",
    "# decoder.block.7.layer.1.EncDecAttention.q.weight\n",
    "# decoder.block.7.layer.1.EncDecAttention.k.weight\n",
    "# decoder.block.7.layer.1.EncDecAttention.v.weight\n",
    "# decoder.block.7.layer.1.EncDecAttention.o.weight\n",
    "# encoder.block.7.layer.0.SelfAttention.q.weight\n",
    "# encoder.block.7.layer.0.SelfAttention.k.weight\n",
    "# encoder.block.7.layer.0.SelfAttention.v.weight\n",
    "# encoder.block.7.layer.0.SelfAttention.o.weight\n",
    "# shared.weight\n"
   ]
  },
  {
   "cell_type": "code",
   "execution_count": 34,
   "metadata": {},
   "outputs": [
    {
     "name": "stdout",
     "output_type": "stream",
     "text": [
      "{'warc_headers': {'warc-record-id': '<urn:uuid:702c26f8-79f3-440e-ac43-5e7e7dc926d5>', 'warc-date': '2022-12-01T06:43:36Z', 'content-type': 'text/plain', 'content-length': 2957, 'warc-type': 'conversion', 'warc-identified-content-language': 'yid', 'warc-refers-to': '<urn:uuid:440356ea-3dbb-48c6-9654-0971cec1c722>', 'warc-target-uri': 'http://yi.loveliking.com/l220-work-light/', 'warc-block-digest': 'sha1:UV3GOA5QBIEFVH34D6KXOCBLKPGEQJ6D'}, 'identification': {'label': 'yi', 'prob': 0.8993659615516663}, 'harmful_pp': 1644.333251953125, 'tlsh': 'tlsh:T1FE43FD5127127ACFAC1BA41DAF4FC02740CB81B2696842669A97CB55D5D9D01E87037310A7CA50F0A6B6E03596628F7DF8FC2FC7F261692003F3DF15125C2DAE8F9F1A3588', 'quality_warnings': ['short_sentences', 'footer'], 'categories': None, 'sentence_identifications': [{'label': 'yi', 'prob': 0.992824912071228}, None, {'label': 'he', 'prob': 0.9986895322799683}, {'label': 'yi', 'prob': 0.9895958304405212}, None, None, None, {'label': 'yi', 'prob': 0.9677118062973022}, {'label': 'yi', 'prob': 0.9938991069793701}, {'label': 'yi', 'prob': 0.9677118062973022}, {'label': 'yi', 'prob': 0.9939563870429993}, {'label': 'he', 'prob': 0.9782333970069885}, None, {'label': 'yi', 'prob': 0.9937233328819275}, {'label': 'yi', 'prob': 0.9955291152000427}, None, {'label': 'yi', 'prob': 0.9891027212142944}, {'label': 'yi', 'prob': 0.9983617663383484}, None, {'label': 'yi', 'prob': 0.9967795610427856}, None, {'label': 'yi', 'prob': 0.9753631353378296}, {'label': 'he', 'prob': 0.8211403489112854}, {'label': 'yi', 'prob': 0.9824023246765137}]}\n"
     ]
    }
   ],
   "source": [
    "data = load_from_disk(\"./lang_splits/yi\")\n",
    "print(data[\"train\"][0][\"meta\"])"
   ]
  },
  {
   "cell_type": "code",
   "execution_count": 37,
   "metadata": {},
   "outputs": [
    {
     "data": {
      "text/plain": [
       "(array([   0.,    0.,    0.,    0.,    0., 8000.,    0.,    0.,    0.,\n",
       "           0.]),\n",
       " array([2021.5, 2021.6, 2021.7, 2021.8, 2021.9, 2022. , 2022.1, 2022.2,\n",
       "        2022.3, 2022.4, 2022.5]),\n",
       " <BarContainer object of 10 artists>)"
      ]
     },
     "execution_count": 37,
     "metadata": {},
     "output_type": "execute_result"
    },
    {
     "data": {
      "image/png": "[encoded data removed]",
      "text/plain": [
       "<Figure size 640x480 with 1 Axes>"
      ]
     },
     "metadata": {},
     "output_type": "display_data"
    }
   ],
   "source": [
    "data = load_from_disk(\"./lang_splits/yi\")\n",
    "dates = []\n",
    "for i in range(8000):\n",
    "    dates.append(data[\"train\"][i][\"meta\"][\"warc_headers\"][\"warc-date\"])\n",
    "\n",
    "years = [parser.parse(d).year for d in dates]\n",
    "\n",
    "plt.hist(years)"
   ]
  }
 ],
 "metadata": {
  "kernelspec": {
   "display_name": "arkenv",
   "language": "python",
   "name": "python3"
  },
  "language_info": {
   "codemirror_mode": {
    "name": "ipython",
    "version": 3
   },
   "file_extension": ".py",
   "mimetype": "text/x-python",
   "name": "python",
   "nbconvert_exporter": "python",
   "pygments_lexer": "ipython3",
   "version": "3.10.6"
  }
 },
 "nbformat": 4,
 "nbformat_minor": 2
}
